{
 "cells": [
  {
   "cell_type": "markdown",
   "metadata": {},
   "source": [
    "# Root Mean Square Audio Data Pipeline\n",
    "\n",
    "Author: Sylas Chacko, Omari Motta, Ashley Chen"
   ]
  },
  {
   "cell_type": "code",
   "execution_count": 1,
   "metadata": {},
   "outputs": [],
   "source": [
    "# Importing Packages\n",
    "\n",
    "import os\n",
    "import pandas as pd\n",
    "import numpy as np\n",
    "import matplotlib.pyplot as plt\n",
    "import seaborn as sns\n",
    "import wave\n",
    "import soundfile as sf\n",
    "from glob import glob\n",
    "import pickle\n",
    "import librosa \n",
    "import librosa.display\n",
    "import IPython.display as ipd\n",
    "from itertools import cycle\n",
    "import shutil\n",
    "\n"
   ]
  },
  {
   "cell_type": "markdown",
   "metadata": {},
   "source": [
    "TESS dataset is already clean. Below is the feature extraction process. "
   ]
  },
  {
   "cell_type": "markdown",
   "metadata": {},
   "source": [
    "### Feature Extraction Root Means Square"
   ]
  },
  {
   "cell_type": "code",
   "execution_count": 2,
   "metadata": {},
   "outputs": [
    {
     "name": "stdout",
     "output_type": "stream",
     "text": [
      "CSV file created: TESS_rms_values.csv\n"
     ]
    }
   ],
   "source": [
    "def calculate_rms(file_path):\n",
    "    # Load the audio file\n",
    "    audio, sr = librosa.load(file_path)\n",
    "    \n",
    "    # Calculate the RMS (Root Mean Square) energy\n",
    "    rms = librosa.feature.rms(y=audio)\n",
    "    \n",
    "    # Return the mean RMS value\n",
    "    return rms.mean()\n",
    "\n",
    "def process_audio_files(folder_path, output_csv):\n",
    "    # List to store the results\n",
    "    results = []\n",
    "\n",
    "    # Iterate over all files in the folder\n",
    "    for filename in os.listdir(folder_path):\n",
    "        # Check if the file is a .wav file\n",
    "        if filename.endswith('.wav'):\n",
    "            file_path = os.path.join(folder_path, filename)\n",
    "            \n",
    "            # Calculate RMS\n",
    "            rms_value = calculate_rms(file_path)\n",
    "            \n",
    "            # Append the result to the list\n",
    "            results.append({'filename': filename, 'rms': rms_value})\n",
    "\n",
    "    # Create a DataFrame from the results\n",
    "    df = pd.DataFrame(results)\n",
    "    \n",
    "    # Save the DataFrame to a CSV file\n",
    "    df.to_csv(output_csv, index=False)\n",
    "    print(f'CSV file created: {output_csv}')\n",
    "\n",
    "\n",
    "folder_path = r'C:\\Users\\sylas\\OneDrive\\Projects\\emo-db-project\\TESS_Audio'  \n",
    "output_csv = 'TESS_rms_values.csv' \n",
    "\n",
    "\n",
    "process_audio_files(folder_path, output_csv)\n"
   ]
  },
  {
   "cell_type": "markdown",
   "metadata": {},
   "source": [
    "Adding Emotions Column"
   ]
  },
  {
   "cell_type": "code",
   "execution_count": 3,
   "metadata": {},
   "outputs": [
    {
     "name": "stdout",
     "output_type": "stream",
     "text": [
      "Updated CSV file created: TESS_rms_final.csv\n"
     ]
    }
   ],
   "source": [
    "import pandas as pd\n",
    "\n",
    "# Load the existing CSV file\n",
    "csv_file = r'C:\\Users\\sylas\\OneDrive\\Projects\\emo-db-project\\TESS_rms_values.csv'  # Replace with the path to your CSV file\n",
    "df = pd.read_csv(csv_file)\n",
    "\n",
    "# Function to extract emotion from the filename\n",
    "def extract_emotion(filename):\n",
    "    # Extract the part of the filename between the last underscore and \".wav\"\n",
    "    return filename.split('_')[-1].split('.')[0]\n",
    "\n",
    "# Add the emotion column\n",
    "df['Emotion'] = df['filename'].apply(extract_emotion)\n",
    "\n",
    "# Save the updated DataFrame back to a CSV file\n",
    "output_csv = 'TESS_rms_final.csv'  # Name of the updated CSV file\n",
    "df.to_csv(output_csv, index=False)\n",
    "\n",
    "print(f'Updated CSV file created: {output_csv}')\n"
   ]
  }
 ],
 "metadata": {
  "kernelspec": {
   "display_name": "emo-db-env",
   "language": "python",
   "name": "python3"
  },
  "language_info": {
   "codemirror_mode": {
    "name": "ipython",
    "version": 3
   },
   "file_extension": ".py",
   "mimetype": "text/x-python",
   "name": "python",
   "nbconvert_exporter": "python",
   "pygments_lexer": "ipython3",
   "version": "3.9.15"
  }
 },
 "nbformat": 4,
 "nbformat_minor": 2
}
